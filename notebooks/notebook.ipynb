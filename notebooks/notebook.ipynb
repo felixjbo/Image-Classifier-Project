{
 "cells": [
  {
   "cell_type": "markdown",
   "metadata": {},
   "source": [
    "# Image Classifier Project\n",
    "** Data download process in file named 'download_process.ipynb'\n",
    "\n",
    "## Problem Statement\n",
    "\n",
    "The dataset is composed of dog and cat photos provided as a subset of photos from a much larger 3 million manually annotated photos. This data was obtained through a collaboration between Petfinder.com and Microsoft.\n",
    "\n",
    "The data set was originally used as a CAPTCHA, i.e., a task that a human is believed to find trivial, but that a machine cannot solve, which is used on websites to distinguish between human users and bots. The task was named \"Asirra\". When \"Asirra\" was introduced, it was mentioned \"that user studies indicate that humans can solve it 99.6% of the time in less than 30 seconds.\" Barring a breakthrough in computer vision, we expect that computers will have no more than a 1/54,000 chance of solving it.\n",
    "\n",
    "At the time the competition was published, the state-of-the-art result was achieved with an SVM and was described in a 2007 paper with the title \"Machine Learning Attacks against Asirra's CAPTCHA\" (PDF) that achieved 80% classification accuracy. It was this paper that showed that the task was no longer a suitable task for a CAPTCHA shortly after the task was proposed.\n",
    "\n",
    "## Visualize the input\n",
    "\n",
    "### Cats\n",
    "<img src=\"../data/raw/train/train/cat.0.jpg\"> <img src=\"../data/raw/train/train/cat.1.jpg\"> <img src=\"../data/raw/train/train/cat.2.jpg\">\n",
    "<img src=\"../data/raw/train/train/cat.3.jpg\"> <img src=\"../data/raw/train/train/cat.4.jpg\"> <img src=\"../data/raw/train/train/cat.5.jpg\">\n",
    "<img src=\"../data/raw/train/train/cat.6.jpg\"> <img src=\"../data/raw/train/train/cat.7.jpg\"> <img src=\"../data/raw/train/train/cat.8.jpg\">\n",
    "\n",
    "### Dogs\n",
    "<img src=\"../data/raw/train/train/dog.0.jpg\"> <img src=\"../data/raw/train/train/dog.1.jpg\"> <img src=\"../data/raw/train/train/dog.2.jpg\">\n",
    "<img src=\"../data/raw/train/train/dog.3.jpg\"> <img src=\"../data/raw/train/train/dog.4.jpg\"> <img src=\"../data/raw/train/train/dog.5.jpg\">\n",
    "<img src=\"../data/raw/train/train/dog.6.jpg\"> <img src=\"../data/raw/train/train/dog.7.jpg\"> <img src=\"../data/raw/train/train/dog.8.jpg\">"
   ]
  },
  {
   "cell_type": "code",
   "execution_count": 1,
   "metadata": {},
   "outputs": [],
   "source": [
    "import os,shutil,pathlib\n",
    "original_dir = pathlib.Path(\"../data/raw/train/train\")\n",
    "new_base_dir = pathlib.Path(\"../data/raw/reduced_ds/\")\n",
    "\n",
    "def make_subset(subset_name, start_index, end_index):\n",
    "  for category in (\"cat\", \"dog\"):\n",
    "    dir = new_base_dir / subset_name / category\n",
    "    os.makedirs(dir)\n",
    "    f_names = [f\"{category}.{i}.jpg\" for i in range(start_index, end_index)]\n",
    "    for f_name in f_names:\n",
    "      shutil.copyfile(src=original_dir / f_name, dst=dir / f_name)"
   ]
  },
  {
   "cell_type": "code",
   "execution_count": 2,
   "metadata": {},
   "outputs": [
    {
     "ename": "FileExistsError",
     "evalue": "[Errno 17] File exists: '../data/raw/reduced_ds/train/cat'",
     "output_type": "error",
     "traceback": [
      "\u001b[0;31m---------------------------------------------------------------------------\u001b[0m",
      "\u001b[0;31mFileExistsError\u001b[0m                           Traceback (most recent call last)",
      "\u001b[1;32m/workspaces/Image-Classifier-Project/notebooks/notebook.ipynb Cell 3\u001b[0m line \u001b[0;36m1\n\u001b[0;32m----> <a href='vscode-notebook-cell://codespaces%2Bbug-free-tribble-gjqjwpv6rjwhwj6w/workspaces/Image-Classifier-Project/notebooks/notebook.ipynb#W2sdnNjb2RlLXJlbW90ZQ%3D%3D?line=0'>1</a>\u001b[0m make_subset(\u001b[39m\"\u001b[39;49m\u001b[39mtrain\u001b[39;49m\u001b[39m\"\u001b[39;49m, start_index\u001b[39m=\u001b[39;49m\u001b[39m0\u001b[39;49m, end_index\u001b[39m=\u001b[39;49m\u001b[39m1000\u001b[39;49m)\n\u001b[1;32m      <a href='vscode-notebook-cell://codespaces%2Bbug-free-tribble-gjqjwpv6rjwhwj6w/workspaces/Image-Classifier-Project/notebooks/notebook.ipynb#W2sdnNjb2RlLXJlbW90ZQ%3D%3D?line=1'>2</a>\u001b[0m make_subset(\u001b[39m\"\u001b[39m\u001b[39mvalidation\u001b[39m\u001b[39m\"\u001b[39m, start_index\u001b[39m=\u001b[39m\u001b[39m1000\u001b[39m, end_index\u001b[39m=\u001b[39m\u001b[39m1500\u001b[39m)\n\u001b[1;32m      <a href='vscode-notebook-cell://codespaces%2Bbug-free-tribble-gjqjwpv6rjwhwj6w/workspaces/Image-Classifier-Project/notebooks/notebook.ipynb#W2sdnNjb2RlLXJlbW90ZQ%3D%3D?line=2'>3</a>\u001b[0m make_subset(\u001b[39m\"\u001b[39m\u001b[39mtest\u001b[39m\u001b[39m\"\u001b[39m, start_index\u001b[39m=\u001b[39m\u001b[39m1500\u001b[39m, end_index\u001b[39m=\u001b[39m\u001b[39m2000\u001b[39m)\n",
      "\u001b[1;32m/workspaces/Image-Classifier-Project/notebooks/notebook.ipynb Cell 3\u001b[0m line \u001b[0;36m8\n\u001b[1;32m      <a href='vscode-notebook-cell://codespaces%2Bbug-free-tribble-gjqjwpv6rjwhwj6w/workspaces/Image-Classifier-Project/notebooks/notebook.ipynb#W2sdnNjb2RlLXJlbW90ZQ%3D%3D?line=5'>6</a>\u001b[0m \u001b[39mfor\u001b[39;00m category \u001b[39min\u001b[39;00m (\u001b[39m\"\u001b[39m\u001b[39mcat\u001b[39m\u001b[39m\"\u001b[39m, \u001b[39m\"\u001b[39m\u001b[39mdog\u001b[39m\u001b[39m\"\u001b[39m):\n\u001b[1;32m      <a href='vscode-notebook-cell://codespaces%2Bbug-free-tribble-gjqjwpv6rjwhwj6w/workspaces/Image-Classifier-Project/notebooks/notebook.ipynb#W2sdnNjb2RlLXJlbW90ZQ%3D%3D?line=6'>7</a>\u001b[0m   \u001b[39mdir\u001b[39m \u001b[39m=\u001b[39m new_base_dir \u001b[39m/\u001b[39m subset_name \u001b[39m/\u001b[39m category\n\u001b[0;32m----> <a href='vscode-notebook-cell://codespaces%2Bbug-free-tribble-gjqjwpv6rjwhwj6w/workspaces/Image-Classifier-Project/notebooks/notebook.ipynb#W2sdnNjb2RlLXJlbW90ZQ%3D%3D?line=7'>8</a>\u001b[0m   os\u001b[39m.\u001b[39;49mmakedirs(\u001b[39mdir\u001b[39;49m)\n\u001b[1;32m      <a href='vscode-notebook-cell://codespaces%2Bbug-free-tribble-gjqjwpv6rjwhwj6w/workspaces/Image-Classifier-Project/notebooks/notebook.ipynb#W2sdnNjb2RlLXJlbW90ZQ%3D%3D?line=8'>9</a>\u001b[0m   f_names \u001b[39m=\u001b[39m [\u001b[39mf\u001b[39m\u001b[39m\"\u001b[39m\u001b[39m{\u001b[39;00mcategory\u001b[39m}\u001b[39;00m\u001b[39m.\u001b[39m\u001b[39m{\u001b[39;00mi\u001b[39m}\u001b[39;00m\u001b[39m.jpg\u001b[39m\u001b[39m\"\u001b[39m \u001b[39mfor\u001b[39;00m i \u001b[39min\u001b[39;00m \u001b[39mrange\u001b[39m(start_index, end_index)]\n\u001b[1;32m     <a href='vscode-notebook-cell://codespaces%2Bbug-free-tribble-gjqjwpv6rjwhwj6w/workspaces/Image-Classifier-Project/notebooks/notebook.ipynb#W2sdnNjb2RlLXJlbW90ZQ%3D%3D?line=9'>10</a>\u001b[0m   \u001b[39mfor\u001b[39;00m f_name \u001b[39min\u001b[39;00m f_names:\n",
      "File \u001b[0;32m<frozen os>:225\u001b[0m, in \u001b[0;36mmakedirs\u001b[0;34m(name, mode, exist_ok)\u001b[0m\n",
      "\u001b[0;31mFileExistsError\u001b[0m: [Errno 17] File exists: '../data/raw/reduced_ds/train/cat'"
     ]
    }
   ],
   "source": [
    "make_subset(\"train\", start_index=0, end_index=1000)\n",
    "make_subset(\"validation\", start_index=1000, end_index=1500)\n",
    "make_subset(\"test\", start_index=1500, end_index=2000)"
   ]
  },
  {
   "cell_type": "code",
   "execution_count": 3,
   "metadata": {},
   "outputs": [
    {
     "name": "stderr",
     "output_type": "stream",
     "text": [
      "2023-11-16 05:55:03.594560: I external/local_tsl/tsl/cuda/cudart_stub.cc:31] Could not find cuda drivers on your machine, GPU will not be used.\n",
      "2023-11-16 05:55:05.909593: E external/local_xla/xla/stream_executor/cuda/cuda_dnn.cc:9261] Unable to register cuDNN factory: Attempting to register factory for plugin cuDNN when one has already been registered\n",
      "2023-11-16 05:55:05.909686: E external/local_xla/xla/stream_executor/cuda/cuda_fft.cc:607] Unable to register cuFFT factory: Attempting to register factory for plugin cuFFT when one has already been registered\n",
      "2023-11-16 05:55:06.278642: E external/local_xla/xla/stream_executor/cuda/cuda_blas.cc:1515] Unable to register cuBLAS factory: Attempting to register factory for plugin cuBLAS when one has already been registered\n",
      "2023-11-16 05:55:06.996576: I external/local_tsl/tsl/cuda/cudart_stub.cc:31] Could not find cuda drivers on your machine, GPU will not be used.\n",
      "2023-11-16 05:55:06.998546: I tensorflow/core/platform/cpu_feature_guard.cc:182] This TensorFlow binary is optimized to use available CPU instructions in performance-critical operations.\n",
      "To enable the following instructions: AVX2 FMA, in other operations, rebuild TensorFlow with the appropriate compiler flags.\n",
      "2023-11-16 05:55:10.793085: W tensorflow/compiler/tf2tensorrt/utils/py_utils.cc:38] TF-TRT Warning: Could not find TensorRT\n"
     ]
    }
   ],
   "source": [
    "from tensorflow import keras\n",
    "from tensorflow.keras import layers"
   ]
  },
  {
   "cell_type": "code",
   "execution_count": 4,
   "metadata": {},
   "outputs": [],
   "source": [
    "inputs = keras.Input(shape=(180, 180, 3))\n",
    "x = layers.Rescaling(1./255)(inputs)\n",
    "x = layers.Conv2D(filters=32, kernel_size=3, activation=\"relu\")(x)\n",
    "x = layers.MaxPooling2D(pool_size=2)(x)\n",
    "x = layers.Conv2D(filters=64, kernel_size=3, activation=\"relu\")(x)\n",
    "x = layers.MaxPooling2D(pool_size=2)(x)\n",
    "x = layers.Conv2D(filters=128, kernel_size=3, activation=\"relu\")(x)\n",
    "x = layers.MaxPooling2D(pool_size=2)(x)\n",
    "x = layers.Conv2D(filters=256, kernel_size=3, activation=\"relu\")(x)\n",
    "x = layers.MaxPooling2D(pool_size=2)(x)\n",
    "x = layers.Conv2D(filters=256, kernel_size=3, activation=\"relu\")(x)\n",
    "x = layers.Flatten()(x)\n",
    "outputs = layers.Dense(1, activation=\"sigmoid\")(x)\n",
    "model = keras.Model(inputs=inputs, outputs=outputs)"
   ]
  },
  {
   "cell_type": "code",
   "execution_count": 5,
   "metadata": {},
   "outputs": [
    {
     "name": "stdout",
     "output_type": "stream",
     "text": [
      "Model: \"model\"\n",
      "_________________________________________________________________\n",
      " Layer (type)                Output Shape              Param #   \n",
      "=================================================================\n",
      " input_1 (InputLayer)        [(None, 180, 180, 3)]     0         \n",
      "                                                                 \n",
      " rescaling (Rescaling)       (None, 180, 180, 3)       0         \n",
      "                                                                 \n",
      " conv2d (Conv2D)             (None, 178, 178, 32)      896       \n",
      "                                                                 \n",
      " max_pooling2d (MaxPooling2  (None, 89, 89, 32)        0         \n",
      " D)                                                              \n",
      "                                                                 \n",
      " conv2d_1 (Conv2D)           (None, 87, 87, 64)        18496     \n",
      "                                                                 \n",
      " max_pooling2d_1 (MaxPoolin  (None, 43, 43, 64)        0         \n",
      " g2D)                                                            \n",
      "                                                                 \n",
      " conv2d_2 (Conv2D)           (None, 41, 41, 128)       73856     \n",
      "                                                                 \n",
      " max_pooling2d_2 (MaxPoolin  (None, 20, 20, 128)       0         \n",
      " g2D)                                                            \n",
      "                                                                 \n",
      " conv2d_3 (Conv2D)           (None, 18, 18, 256)       295168    \n",
      "                                                                 \n",
      " max_pooling2d_3 (MaxPoolin  (None, 9, 9, 256)         0         \n",
      " g2D)                                                            \n",
      "                                                                 \n",
      " conv2d_4 (Conv2D)           (None, 7, 7, 256)         590080    \n",
      "                                                                 \n",
      " flatten (Flatten)           (None, 12544)             0         \n",
      "                                                                 \n",
      " dense (Dense)               (None, 1)                 12545     \n",
      "                                                                 \n",
      "=================================================================\n",
      "Total params: 991041 (3.78 MB)\n",
      "Trainable params: 991041 (3.78 MB)\n",
      "Non-trainable params: 0 (0.00 Byte)\n",
      "_________________________________________________________________\n"
     ]
    }
   ],
   "source": [
    "model.summary()"
   ]
  },
  {
   "cell_type": "code",
   "execution_count": 6,
   "metadata": {},
   "outputs": [],
   "source": [
    "model.compile(loss=\"binary_crossentropy\", optimizer=\"rmsprop\", metrics=[\"accuracy\"])"
   ]
  },
  {
   "cell_type": "code",
   "execution_count": 7,
   "metadata": {},
   "outputs": [],
   "source": [
    "from tensorflow.keras.utils import image_dataset_from_directory"
   ]
  },
  {
   "cell_type": "code",
   "execution_count": 8,
   "metadata": {},
   "outputs": [
    {
     "name": "stdout",
     "output_type": "stream",
     "text": [
      "Found 2000 files belonging to 2 classes.\n",
      "Found 1000 files belonging to 2 classes.\n",
      "Found 1000 files belonging to 2 classes.\n"
     ]
    }
   ],
   "source": [
    "train_dataset = image_dataset_from_directory(\n",
    "    new_base_dir / \"train\",\n",
    "    image_size=(180, 180),\n",
    "    batch_size=32\n",
    ")\n",
    "\n",
    "validation_dataset = image_dataset_from_directory(\n",
    "    new_base_dir / \"validation\",\n",
    "    image_size=(180, 180),\n",
    "    batch_size=32\n",
    ")\n",
    "\n",
    "test_dataset = image_dataset_from_directory(\n",
    "    new_base_dir / \"test\",\n",
    "    image_size=(180, 180),\n",
    "    batch_size=32\n",
    ")"
   ]
  },
  {
   "cell_type": "code",
   "execution_count": 9,
   "metadata": {},
   "outputs": [
    {
     "name": "stdout",
     "output_type": "stream",
     "text": [
      "Data batch shape: (32, 180, 180, 3)\n",
      "Labels batch shape: (32,)\n"
     ]
    }
   ],
   "source": [
    "for data_batch, labels_batch in train_dataset:\n",
    "  print(f\"Data batch shape: {data_batch.shape}\")\n",
    "  print(f\"Labels batch shape: {labels_batch.shape}\")\n",
    "  break"
   ]
  },
  {
   "cell_type": "code",
   "execution_count": 10,
   "metadata": {},
   "outputs": [],
   "source": [
    "callbacks = [\n",
    "    keras.callbacks.ModelCheckpoint(\n",
    "        filepath=\"convnet_from_scratch.x\",\n",
    "        save_best_only=True,\n",
    "        monitor=\"val_loss\"\n",
    "    )\n",
    "]"
   ]
  },
  {
   "cell_type": "code",
   "execution_count": 11,
   "metadata": {},
   "outputs": [
    {
     "name": "stdout",
     "output_type": "stream",
     "text": [
      "Epoch 1/30\n"
     ]
    },
    {
     "name": "stderr",
     "output_type": "stream",
     "text": [
      "2023-11-16 05:55:19.124885: W external/local_tsl/tsl/framework/cpu_allocator_impl.cc:83] Allocation of 129777664 exceeds 10% of free system memory.\n",
      "2023-11-16 05:55:19.643895: W external/local_tsl/tsl/framework/cpu_allocator_impl.cc:83] Allocation of 32444416 exceeds 10% of free system memory.\n",
      "2023-11-16 05:55:19.668719: W external/local_tsl/tsl/framework/cpu_allocator_impl.cc:83] Allocation of 62005248 exceeds 10% of free system memory.\n",
      "2023-11-16 05:55:19.800984: W external/local_tsl/tsl/framework/cpu_allocator_impl.cc:83] Allocation of 15147008 exceeds 10% of free system memory.\n",
      "2023-11-16 05:55:19.810746: W external/local_tsl/tsl/framework/cpu_allocator_impl.cc:83] Allocation of 27541504 exceeds 10% of free system memory.\n"
     ]
    },
    {
     "name": "stdout",
     "output_type": "stream",
     "text": [
      "63/63 [==============================] - ETA: 0s - loss: 0.6956 - accuracy: 0.5185INFO:tensorflow:Assets written to: convnet_from_scratch.x/assets\n"
     ]
    },
    {
     "name": "stderr",
     "output_type": "stream",
     "text": [
      "INFO:tensorflow:Assets written to: convnet_from_scratch.x/assets\n"
     ]
    },
    {
     "name": "stdout",
     "output_type": "stream",
     "text": [
      "63/63 [==============================] - 104s 2s/step - loss: 0.6956 - accuracy: 0.5185 - val_loss: 0.7006 - val_accuracy: 0.5000\n",
      "Epoch 2/30\n",
      "63/63 [==============================] - ETA: 0s - loss: 0.6935 - accuracy: 0.5330INFO:tensorflow:Assets written to: convnet_from_scratch.x/assets\n"
     ]
    },
    {
     "name": "stderr",
     "output_type": "stream",
     "text": [
      "INFO:tensorflow:Assets written to: convnet_from_scratch.x/assets\n"
     ]
    },
    {
     "name": "stdout",
     "output_type": "stream",
     "text": [
      "63/63 [==============================] - 99s 2s/step - loss: 0.6935 - accuracy: 0.5330 - val_loss: 0.6815 - val_accuracy: 0.5580\n",
      "Epoch 3/30\n",
      "63/63 [==============================] - ETA: 0s - loss: 0.6791 - accuracy: 0.5915INFO:tensorflow:Assets written to: convnet_from_scratch.x/assets\n"
     ]
    },
    {
     "name": "stderr",
     "output_type": "stream",
     "text": [
      "INFO:tensorflow:Assets written to: convnet_from_scratch.x/assets\n"
     ]
    },
    {
     "name": "stdout",
     "output_type": "stream",
     "text": [
      "63/63 [==============================] - 98s 2s/step - loss: 0.6791 - accuracy: 0.5915 - val_loss: 0.6747 - val_accuracy: 0.6150\n",
      "Epoch 4/30\n",
      "63/63 [==============================] - ETA: 0s - loss: 0.6721 - accuracy: 0.6305INFO:tensorflow:Assets written to: convnet_from_scratch.x/assets\n"
     ]
    },
    {
     "name": "stderr",
     "output_type": "stream",
     "text": [
      "INFO:tensorflow:Assets written to: convnet_from_scratch.x/assets\n"
     ]
    },
    {
     "name": "stdout",
     "output_type": "stream",
     "text": [
      "63/63 [==============================] - 99s 2s/step - loss: 0.6721 - accuracy: 0.6305 - val_loss: 0.6138 - val_accuracy: 0.6640\n",
      "Epoch 5/30\n",
      "63/63 [==============================] - 97s 2s/step - loss: 0.6135 - accuracy: 0.6575 - val_loss: 0.6374 - val_accuracy: 0.6330\n",
      "Epoch 6/30\n",
      "63/63 [==============================] - ETA: 0s - loss: 0.5744 - accuracy: 0.6970INFO:tensorflow:Assets written to: convnet_from_scratch.x/assets\n"
     ]
    },
    {
     "name": "stderr",
     "output_type": "stream",
     "text": [
      "INFO:tensorflow:Assets written to: convnet_from_scratch.x/assets\n"
     ]
    },
    {
     "name": "stdout",
     "output_type": "stream",
     "text": [
      "63/63 [==============================] - 98s 2s/step - loss: 0.5744 - accuracy: 0.6970 - val_loss: 0.5758 - val_accuracy: 0.6860\n",
      "Epoch 7/30\n",
      "63/63 [==============================] - 97s 2s/step - loss: 0.5484 - accuracy: 0.7210 - val_loss: 0.6089 - val_accuracy: 0.6780\n",
      "Epoch 8/30\n",
      "63/63 [==============================] - 102s 2s/step - loss: 0.5135 - accuracy: 0.7440 - val_loss: 0.5904 - val_accuracy: 0.7020\n",
      "Epoch 9/30\n",
      "63/63 [==============================] - ETA: 0s - loss: 0.4824 - accuracy: 0.7530INFO:tensorflow:Assets written to: convnet_from_scratch.x/assets\n"
     ]
    },
    {
     "name": "stderr",
     "output_type": "stream",
     "text": [
      "INFO:tensorflow:Assets written to: convnet_from_scratch.x/assets\n"
     ]
    },
    {
     "name": "stdout",
     "output_type": "stream",
     "text": [
      "63/63 [==============================] - 99s 2s/step - loss: 0.4824 - accuracy: 0.7530 - val_loss: 0.5753 - val_accuracy: 0.6980\n",
      "Epoch 10/30\n",
      "63/63 [==============================] - ETA: 0s - loss: 0.4356 - accuracy: 0.7965INFO:tensorflow:Assets written to: convnet_from_scratch.x/assets\n"
     ]
    },
    {
     "name": "stderr",
     "output_type": "stream",
     "text": [
      "INFO:tensorflow:Assets written to: convnet_from_scratch.x/assets\n"
     ]
    },
    {
     "name": "stdout",
     "output_type": "stream",
     "text": [
      "63/63 [==============================] - 97s 2s/step - loss: 0.4356 - accuracy: 0.7965 - val_loss: 0.5619 - val_accuracy: 0.7380\n",
      "Epoch 11/30\n",
      "63/63 [==============================] - 97s 2s/step - loss: 0.3949 - accuracy: 0.8155 - val_loss: 0.6160 - val_accuracy: 0.6980\n",
      "Epoch 12/30\n",
      "63/63 [==============================] - 97s 2s/step - loss: 0.3442 - accuracy: 0.8440 - val_loss: 0.6670 - val_accuracy: 0.7060\n",
      "Epoch 13/30\n",
      "63/63 [==============================] - 98s 2s/step - loss: 0.3079 - accuracy: 0.8675 - val_loss: 0.6671 - val_accuracy: 0.7180\n",
      "Epoch 14/30\n",
      "63/63 [==============================] - 98s 2s/step - loss: 0.2522 - accuracy: 0.9000 - val_loss: 0.8274 - val_accuracy: 0.6840\n",
      "Epoch 15/30\n",
      "63/63 [==============================] - 98s 2s/step - loss: 0.1904 - accuracy: 0.9265 - val_loss: 1.5282 - val_accuracy: 0.6810\n",
      "Epoch 16/30\n",
      "63/63 [==============================] - 98s 2s/step - loss: 0.1693 - accuracy: 0.9355 - val_loss: 1.1503 - val_accuracy: 0.6640\n",
      "Epoch 17/30\n",
      "63/63 [==============================] - 98s 2s/step - loss: 0.1235 - accuracy: 0.9480 - val_loss: 1.1212 - val_accuracy: 0.7240\n",
      "Epoch 18/30\n",
      "63/63 [==============================] - 98s 2s/step - loss: 0.1256 - accuracy: 0.9535 - val_loss: 1.2209 - val_accuracy: 0.7230\n",
      "Epoch 19/30\n",
      "63/63 [==============================] - 97s 2s/step - loss: 0.0923 - accuracy: 0.9720 - val_loss: 1.3408 - val_accuracy: 0.7060\n",
      "Epoch 20/30\n",
      "63/63 [==============================] - 98s 2s/step - loss: 0.0817 - accuracy: 0.9735 - val_loss: 1.3688 - val_accuracy: 0.7160\n",
      "Epoch 21/30\n",
      "63/63 [==============================] - 98s 2s/step - loss: 0.0932 - accuracy: 0.9665 - val_loss: 1.4304 - val_accuracy: 0.7380\n",
      "Epoch 22/30\n",
      "63/63 [==============================] - 98s 2s/step - loss: 0.0559 - accuracy: 0.9815 - val_loss: 1.6463 - val_accuracy: 0.7100\n",
      "Epoch 23/30\n",
      "63/63 [==============================] - 97s 2s/step - loss: 0.0730 - accuracy: 0.9745 - val_loss: 1.5602 - val_accuracy: 0.7300\n",
      "Epoch 24/30\n",
      "63/63 [==============================] - 97s 2s/step - loss: 0.0428 - accuracy: 0.9885 - val_loss: 1.8075 - val_accuracy: 0.7230\n",
      "Epoch 25/30\n",
      "63/63 [==============================] - 97s 2s/step - loss: 0.0474 - accuracy: 0.9860 - val_loss: 1.8199 - val_accuracy: 0.7250\n",
      "Epoch 26/30\n",
      "63/63 [==============================] - 99s 2s/step - loss: 0.0476 - accuracy: 0.9855 - val_loss: 2.2262 - val_accuracy: 0.7020\n",
      "Epoch 27/30\n",
      "63/63 [==============================] - 97s 2s/step - loss: 0.0510 - accuracy: 0.9805 - val_loss: 1.9985 - val_accuracy: 0.7110\n",
      "Epoch 28/30\n",
      "63/63 [==============================] - 97s 2s/step - loss: 0.0379 - accuracy: 0.9895 - val_loss: 2.3224 - val_accuracy: 0.7360\n",
      "Epoch 29/30\n",
      "63/63 [==============================] - 99s 2s/step - loss: 0.0505 - accuracy: 0.9860 - val_loss: 2.8223 - val_accuracy: 0.7070\n",
      "Epoch 30/30\n",
      "63/63 [==============================] - 97s 2s/step - loss: 0.0500 - accuracy: 0.9810 - val_loss: 2.0178 - val_accuracy: 0.7300\n"
     ]
    }
   ],
   "source": [
    "history = model.fit(train_dataset, epochs=30, validation_data=validation_dataset, callbacks=callbacks)"
   ]
  },
  {
   "cell_type": "code",
   "execution_count": 12,
   "metadata": {},
   "outputs": [
    {
     "data": {
      "image/png": "[encoded data removed]",
      "text/plain": [
       "<Figure size 640x480 with 1 Axes>"
      ]
     },
     "metadata": {},
     "output_type": "display_data"
    }
   ],
   "source": [
    "import matplotlib.pyplot as plt\n",
    "\n",
    "accuracy = history.history[\"accuracy\"]\n",
    "val_accuracy = history.history[\"val_accuracy\"]\n",
    "loss = history.history[\"loss\"]\n",
    "val_loss = history.history[\"val_loss\"]\n",
    "epochs = range(1, 31)\n",
    "plt.plot(epochs, accuracy, \"b\", label=\"Training Accuracy\")\n",
    "plt.plot(epochs, val_accuracy, \"g\", label=\"Validation Accuracy\")\n",
    "plt.title(label=\"Training and validation accuracy\")\n",
    "plt.show()"
   ]
  },
  {
   "cell_type": "code",
   "execution_count": null,
   "metadata": {},
   "outputs": [],
   "source": []
  }
 ],
 "metadata": {
  "kernelspec": {
   "display_name": ".env",
   "language": "python",
   "name": "python3"
  },
  "language_info": {
   "codemirror_mode": {
    "name": "ipython",
    "version": 3
   },
   "file_extension": ".py",
   "mimetype": "text/x-python",
   "name": "python",
   "nbconvert_exporter": "python",
   "pygments_lexer": "ipython3",
   "version": "3.11.4"
  }
 },
 "nbformat": 4,
 "nbformat_minor": 2
}
